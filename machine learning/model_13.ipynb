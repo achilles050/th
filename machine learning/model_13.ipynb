{
 "cells": [
  {
   "cell_type": "code",
   "execution_count": 1,
   "metadata": {},
   "outputs": [],
   "source": [
    "#import Library\n",
    "import numpy as np\n",
    "import pandas as pd\n",
    "import matplotlib.pyplot as plt\n",
    "import seaborn as sns\n",
    "from sklearn.naive_bayes import GaussianNB as gnb\n",
    "from sklearn.model_selection import train_test_split\n",
    "import warnings\n",
    "from sklearn_porter import Porter\n",
    "warnings.filterwarnings(\"ignore\", category=FutureWarning)"
   ]
  },
  {
   "cell_type": "code",
   "execution_count": 2,
   "metadata": {},
   "outputs": [],
   "source": [
    "# We are reading our data\n",
    "df = pd.read_csv(\"heart.csv\")"
   ]
  },
  {
   "cell_type": "code",
   "execution_count": 3,
   "metadata": {},
   "outputs": [],
   "source": [
    "#process dataset\n",
    "a = pd.get_dummies(df['cp'], prefix = \"cp\")\n",
    "b = pd.get_dummies(df['restecg'], prefix = \"restecg\")\n",
    "c = pd.get_dummies(df['slope'], prefix = \"slope\")\n",
    "d = pd.get_dummies(df['ca'], prefix = \"ca\")\n",
    "e = pd.get_dummies(df['thal'], prefix = \"thal\")\n",
    "frames = [df, a, b, c, d, e]\n",
    "df = pd.concat(frames, axis = 1)\n",
    "df = df.drop(columns = ['cp', 'restecg', 'slope', 'ca', 'thal'])"
   ]
  },
  {
   "cell_type": "code",
   "execution_count": 4,
   "metadata": {},
   "outputs": [],
   "source": [
    "#seperate data and target\n",
    "y = df.target.values\n",
    "x_data = df.drop(['target'], axis = 1)"
   ]
  },
  {
   "cell_type": "code",
   "execution_count": 18,
   "metadata": {},
   "outputs": [],
   "source": [
    "# Normalize\n",
    "x = (x_data - np.min(x_data)) / (np.max(x_data) - np.min(x_data)).values"
   ]
  },
  {
   "cell_type": "code",
   "execution_count": 6,
   "metadata": {},
   "outputs": [],
   "source": [
    "#prepare for train test\n",
    "x_train, x_test, y_train, y_test = train_test_split(x,y,test_size = 0.2,random_state=6232)"
   ]
  },
  {
   "cell_type": "code",
   "execution_count": 7,
   "metadata": {},
   "outputs": [
    {
     "data": {
      "text/plain": [
       "GaussianNB(priors=None, var_smoothing=1e-09)"
      ]
     },
     "execution_count": 7,
     "metadata": {},
     "output_type": "execute_result"
    }
   ],
   "source": [
    "#call model\n",
    "gnb = gnb()\n",
    "gnb.fit(x_train,y_train)"
   ]
  },
  {
   "cell_type": "code",
   "execution_count": 8,
   "metadata": {},
   "outputs": [],
   "source": [
    "def prepare_data_form(data):\n",
    "    data = np.array(data.split(\",\"),dtype=np.float64)\n",
    "    a = np.zeros(4,dtype=np.float64)\n",
    "    b = np.zeros(3,dtype=np.float64)\n",
    "    c = np.zeros(3,dtype=np.float64)\n",
    "    d = np.zeros(5,dtype=np.float64)\n",
    "    e = np.zeros(4,dtype=np.float64)\n",
    "    for i in range(4):\n",
    "        if data[2]==i:\n",
    "            a[i]=1\n",
    "    for i in range(3):\n",
    "        if data[6]==i:\n",
    "            b[i]=1\n",
    "    for i in range(3):\n",
    "        if data[10]==i:\n",
    "            c[i]=1\n",
    "    for i in range(5):\n",
    "        if data[11]==i:\n",
    "            d[i]=1\n",
    "    for i in range(4):\n",
    "        if data[12]==i:\n",
    "            e[i]=1\n",
    "    data = np.delete(data,12)\n",
    "    data = np.delete(data,11)\n",
    "    data = np.delete(data,10)\n",
    "    data = np.delete(data,6)\n",
    "    data = np.delete(data,2)\n",
    "    data = np.insert(data,len(data),a)\n",
    "    data = np.insert(data,len(data),b)\n",
    "    data = np.insert(data,len(data),c)\n",
    "    data = np.insert(data,len(data),d)\n",
    "    data = np.insert(data,len(data),e)\n",
    "    data = data.reshape(1,-1)\n",
    "    new_data = (data - np.min(data)) / (np.max(data) - np.min(data))\n",
    "    return new_data"
   ]
  },
  {
   "cell_type": "code",
   "execution_count": 9,
   "metadata": {},
   "outputs": [
    {
     "name": "stdout",
     "output_type": "stream",
     "text": [
      "Train Accuracy 83.06%\n"
     ]
    }
   ],
   "source": [
    "accuracies = {}\n",
    "acc = gnb.score(x_train,y_train)*100\n",
    "accuracies['GaussianNB'] = acc\n",
    "print(\"Train Accuracy {:.2f}%\".format(acc))"
   ]
  },
  {
   "cell_type": "code",
   "execution_count": 10,
   "metadata": {},
   "outputs": [
    {
     "name": "stdout",
     "output_type": "stream",
     "text": [
      "Test Accuracy 96.72%\n"
     ]
    }
   ],
   "source": [
    "acc2 = gnb.score(x_test,y_test)*100\n",
    "accuracies['GaussianNB'] = acc2\n",
    "print(\"Test Accuracy {:.2f}%\".format(acc2))"
   ]
  },
  {
   "cell_type": "markdown",
   "metadata": {},
   "source": [
    "result = []\n",
    "result2 = []\n",
    "for i in range(10000):\n",
    "    x_train, x_test, y_train, y_test = train_test_split(x,y,test_size = 0.2,random_state=i)\n",
    "    x_train = x_train.T\n",
    "    y_train = y_train.T\n",
    "    x_test = x_test.T\n",
    "    y_test = y_test.T\n",
    "    accuracies = {}\n",
    "    ml = gnb()\n",
    "    ml.fit(x_train.T,y_train.T)\n",
    "    acc = ml.score(x_train.T,y_train.T)*100\n",
    "    acc2 = ml.score(x_test.T,y_test.T)*100\n",
    "    result.append(acc+acc2)\n",
    "    \n",
    "print(max(result),result.index(max(result)))"
   ]
  },
  {
   "cell_type": "code",
   "execution_count": 14,
   "metadata": {},
   "outputs": [
    {
     "name": "stdout",
     "output_type": "stream",
     "text": [
      "98.03%\n",
      "[[0.01974236 0.98025764]]\n"
     ]
    }
   ],
   "source": [
    "#form = \"0.70833333,1,0.48113208,0.24429224,1,0.60305344,0,0.37096774,0,0,0,1,1,0,0,1,0,0,1,0,0,0,0,0,1,0,0\" #1\n",
    "form = \"0.16666667,1,0.33962264,0.28310502,0,0.88549618,0,0.56451613,0,0,1,0,0,1,0,1,0,0,1,0,0,0,0,0,0,1,0\" #1<<<\n",
    "#form = \"0.583333,0,0.339623,0.251142,0,0.786260,0,0,0,1,0,0,1,0,0,0,1,0,0,1,0,0,0,0,0,1,0\" #0\n",
    "#form = \"0.583333,1,0.339623,0.011416,0,0.335878,1,0.193548,1,0,0,0,0,1,0,0,1,0,0,1,0,0,0,0,0,0,1\" #0<<<\n",
    "form = np.array(form.split(\",\"),dtype=np.float64)\n",
    "form = form.reshape(1,-1)\n",
    "\n",
    "#form_norm = prepare_data_form(form)\n",
    "result = \"{:.2f}%\".format(gnb.predict_proba(form)[0,1]*100)\n",
    "print(result)\n",
    "print(gnb.predict_proba(form))"
   ]
  },
  {
   "cell_type": "code",
   "execution_count": 12,
   "metadata": {},
   "outputs": [
    {
     "name": "stdout",
     "output_type": "stream",
     "text": [
      "class GaussianNB {\n",
      "\n",
      "    private double[] priors;\n",
      "    private double[][] sigmas;\n",
      "    private double[][] thetas;\n",
      "\n",
      "    public GaussianNB(double[] priors, double[][] sigmas, double[][] thetas) {\n",
      "        this.priors = priors;\n",
      "        this.sigmas = sigmas;\n",
      "        this.thetas = thetas;\n",
      "    }\n",
      "\n",
      "    public int predict(double[] features) {\n",
      "        double[] likelihoods = new double[this.sigmas.length];\n",
      "    \n",
      "        for (int i = 0, il = this.sigmas.length; i < il; i++) {\n",
      "            double sum = 0.;\n",
      "            for (int j = 0, jl = this.sigmas[0].length; j < jl; j++) {\n",
      "                sum += Math.log(2. * Math.PI * this.sigmas[i][j]);\n",
      "            }\n",
      "            double nij = -0.5 * sum;\n",
      "            sum = 0.;\n",
      "            for (int j = 0, jl = this.sigmas[0].length; j < jl; j++) {\n",
      "                sum += Math.pow(features[j] - this.thetas[i][j], 2.) / this.sigmas[i][j];\n",
      "            }\n",
      "            nij -= 0.5 * sum;\n",
      "            likelihoods[i] = Math.log(this.priors[i]) + nij;\n",
      "        }\n",
      "    \n",
      "        int classIdx = 0;\n",
      "        for (int i = 0, l = likelihoods.length; i < l; i++) {\n",
      "            classIdx = likelihoods[i] > likelihoods[classIdx] ? i : classIdx;\n",
      "        }\n",
      "        return classIdx;\n",
      "    }\n",
      "\n",
      "    public static void main(String[] args) {\n",
      "        if (args.length == 27) {\n",
      "\n",
      "            // Features:\n",
      "            double[] features = new double[args.length];\n",
      "            for (int i = 0, l = args.length; i < l; i++) {\n",
      "                features[i] = Double.parseDouble(args[i]);\n",
      "            }\n",
      "\n",
      "            // Parameters:\n",
      "            double[] priors = {0.4669421487603306, 0.5330578512396694};\n",
      "            double[][] sigmas = {{0.02817159475840142, 0.14566528335752593, 0.02756637318601188, 0.012658801136444128, 0.14566528335752582, 0.027028313081290018, 0.24841412821616746, 0.03906206922900571, 0.19077453231985647, 0.05027801732259774, 0.12780953897660352, 0.05027801732259779, 0.24669120551274584, 0.24434176546262443, 0.01738585662089818, 0.0657843216533989, 0.22022084761471158, 0.19077453231985636, 0.22867883179514853, 0.20299162058048764, 0.17229227059223476, 0.115122562705948, 0.008771243103786519, 0.008771243103786531, 0.08066410863750083, 0.19077453231985655, 0.2286788317951486}, {0.03719603213910925, 0.24337479743766863, 0.024429843639934775, 0.015994766048089294, 0.14145784533142514, 0.02335157498433859, 0.12006490019591697, 0.015441344957269596, 0.17426837354487443, 0.19037317493902145, 0.24337479743766866, 0.09061955436333434, 0.2445766482879783, 0.24565831405325678, 0.0076918456919806595, 0.05131903155821454, 0.20780001226850814, 0.22714981095849104, 0.1742683735448744, 0.12006490019591697, 0.037257376609593704, 0.02271498132084912, 0.022714981320849127, 0.007691845691980655, 0.04434829662641975, 0.17847485152095716, 0.14650561890272518}};\n",
      "            double[][] thetas = {{0.5691371681415929, 0.8230088495575221, 0.3817832693270997, 0.28647916919222527, 0.17699115044247787, 0.5273930959940554, 0.5398230088495575, 0.23836711390236948, 0.7433628318584071, 0.05309734513274336, 0.1504424778761062, 0.05309734513274336, 0.5575221238938053, 0.4247787610619469, 0.017699115044247787, 0.07079646017699115, 0.672566371681416, 0.25663716814159293, 0.35398230088495575, 0.2831858407079646, 0.22123893805309736, 0.13274336283185842, 0.008849557522123894, 0.008849557522123894, 0.08849557522123894, 0.25663716814159293, 0.6460176991150443}, {0.49757751937984473, 0.5813953488372093, 0.32923796986982595, 0.2645924038087147, 0.17054263565891473, 0.6564293745192025, 0.13953488372093023, 0.09127281820455119, 0.2248062015503876, 0.2558139534883721, 0.4186046511627907, 0.10077519379844961, 0.4263565891472868, 0.5658914728682171, 0.007751937984496124, 0.05426356589147287, 0.29457364341085274, 0.6511627906976745, 0.7751937984496124, 0.13953488372093023, 0.03875968992248062, 0.023255813953488372, 0.023255813953488372, 0.007751937984496124, 0.046511627906976744, 0.7674418604651163, 0.17829457364341086}};\n",
      "\n",
      "            // Prediction:\n",
      "            GaussianNB clf = new GaussianNB(priors, sigmas, thetas);\n",
      "            int estimation = clf.predict(features);\n",
      "            System.out.println(estimation);\n",
      "\n",
      "        }\n",
      "    }\n",
      "}\n"
     ]
    }
   ],
   "source": [
    "porter = Porter(gnb, language='java')\n",
    "output = porter.export(embed_data=True)\n",
    "print(output)"
   ]
  }
 ],
 "metadata": {
  "kernelspec": {
   "display_name": "Python 3",
   "language": "python",
   "name": "python3"
  },
  "language_info": {
   "codemirror_mode": {
    "name": "ipython",
    "version": 3
   },
   "file_extension": ".py",
   "mimetype": "text/x-python",
   "name": "python",
   "nbconvert_exporter": "python",
   "pygments_lexer": "ipython3",
   "version": "3.7.3"
  }
 },
 "nbformat": 4,
 "nbformat_minor": 2
}
