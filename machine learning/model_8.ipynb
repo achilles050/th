{
 "cells": [
  {
   "cell_type": "code",
   "execution_count": 2,
   "metadata": {},
   "outputs": [],
   "source": [
    "#import Library\n",
    "import numpy as np\n",
    "import pandas as pd\n",
    "import matplotlib.pyplot as plt\n",
    "import seaborn as sns\n",
    "from sklearn.naive_bayes import GaussianNB as gnb\n",
    "from sklearn.model_selection import train_test_split\n",
    "import warnings\n",
    "from sklearn_porter import Porter\n",
    "warnings.filterwarnings(\"ignore\", category=FutureWarning)"
   ]
  },
  {
   "cell_type": "code",
   "execution_count": 3,
   "metadata": {},
   "outputs": [],
   "source": [
    "# We are reading our data\n",
    "df = pd.read_csv(\"heart.csv\")"
   ]
  },
  {
   "cell_type": "code",
   "execution_count": 4,
   "metadata": {},
   "outputs": [],
   "source": [
    "#process dataset\n",
    "a = pd.get_dummies(df['cp'], prefix = \"cp\")\n",
    "frames = [df, a]\n",
    "df = pd.concat(frames, axis = 1)\n",
    "df = df.drop(columns = ['cp', 'restecg', 'oldpeak', 'slope', 'ca', 'thal'])"
   ]
  },
  {
   "cell_type": "code",
   "execution_count": 5,
   "metadata": {},
   "outputs": [],
   "source": [
    "#seperate data and target\n",
    "y = df.target.values\n",
    "x_data = df.drop(['target'], axis = 1)"
   ]
  },
  {
   "cell_type": "code",
   "execution_count": 6,
   "metadata": {},
   "outputs": [],
   "source": [
    "# Normalize\n",
    "x = (x_data - np.min(x_data)) / (np.max(x_data) - np.min(x_data)).values"
   ]
  },
  {
   "cell_type": "code",
   "execution_count": 7,
   "metadata": {},
   "outputs": [],
   "source": [
    "#prepare for train test\n",
    "x_train, x_test, y_train, y_test = train_test_split(x,y,test_size = 0.2,random_state=9478)"
   ]
  },
  {
   "cell_type": "code",
   "execution_count": null,
   "metadata": {},
   "outputs": [],
   "source": [
    "#call model\n",
    "gnb = gnb()\n",
    "gnb.fit(x_train,y_train)"
   ]
  },
  {
   "cell_type": "code",
   "execution_count": 44,
   "metadata": {},
   "outputs": [],
   "source": [
    "def prepare_data_form(data):\n",
    "    data = np.array(data.split(\",\"),dtype=np.float64)\n",
    "    a = np.zeros(4,dtype=np.float64)\n",
    "    for i in range(4):\n",
    "        if data[2]==i:\n",
    "            a[i]=1\n",
    "    data = np.delete(data,2)\n",
    "    data = np.insert(data,len(data),a)\n",
    "    data = data.reshape(1,-1)\n",
    "    new_data = (data - np.min(data)) / (np.max(data) - np.min(data))\n",
    "    return data"
   ]
  },
  {
   "cell_type": "code",
   "execution_count": 45,
   "metadata": {},
   "outputs": [
    {
     "name": "stdout",
     "output_type": "stream",
     "text": [
      "Train Accuracy 75.62%\n"
     ]
    }
   ],
   "source": [
    "accuracies = {}\n",
    "acc = gnb.score(x_train,y_train)*100\n",
    "accuracies['GaussianNB'] = acc\n",
    "print(\"Train Accuracy {:.2f}%\".format(acc))"
   ]
  },
  {
   "cell_type": "code",
   "execution_count": 46,
   "metadata": {},
   "outputs": [
    {
     "name": "stdout",
     "output_type": "stream",
     "text": [
      "Test Accuracy 93.44%\n"
     ]
    }
   ],
   "source": [
    "acc2 = gnb.score(x_test,y_test)*100\n",
    "accuracies['GaussianNB'] = acc2\n",
    "print(\"Test Accuracy {:.2f}%\".format(acc2))"
   ]
  },
  {
   "cell_type": "markdown",
   "metadata": {},
   "source": [
    "result = []\n",
    "result2 = []\n",
    "for i in range(10000):\n",
    "    x_train, x_test, y_train, y_test = train_test_split(x,y,test_size = 0.2,random_state=i)\n",
    "    x_train = x_train.T\n",
    "    y_train = y_train.T\n",
    "    x_test = x_test.T\n",
    "    y_test = y_test.T\n",
    "    accuracies = {}\n",
    "    ml = gnb()\n",
    "    ml.fit(x_train.T,y_train.T)\n",
    "    acc = ml.score(x_train.T,y_train.T)*100\n",
    "    acc2 = ml.score(x_test.T,y_test.T)*100\n",
    "    result.append(acc+acc2)\n",
    "print(max(result),result.index(max(result)))"
   ]
  },
  {
   "cell_type": "code",
   "execution_count": 47,
   "metadata": {},
   "outputs": [
    {
     "name": "stdout",
     "output_type": "stream",
     "text": [
      "99.73%\n",
      "[[0.00267896 0.99732104]]\n"
     ]
    }
   ],
   "source": [
    "form1 = \"63,1,3,145,233,1,150,0\" #1\n",
    "form11 = \"0.708333,1,0.481132,0.244292,1,0.603053,0,0,0,0,1\" #1\n",
    "form0 = \"0.166667,1,0.339623,0.283105,0,0.885496,0,0,0,1,0\" #1\n",
    "form2 = \"58,1,0,114,318,0,140,0\" #0\n",
    "form22 = \"0.604167,1,0.188679,0.438356,0,0.526718,0,1,0,0,0\" #0\n",
    "\n",
    "form = np.array(form0.split(\",\"),dtype=np.float64)\n",
    "form = form.reshape(1,-1)\n",
    "\n",
    "form_norm = prepare_data_form(form2)\n",
    "\n",
    "result = \"{:.2f}%\".format(gnb.predict_proba(form)[0,1]*100)\n",
    "\n",
    "print(result)\n",
    "print(gnb.predict_proba(form))"
   ]
  },
  {
   "cell_type": "code",
   "execution_count": 48,
   "metadata": {},
   "outputs": [
    {
     "name": "stdout",
     "output_type": "stream",
     "text": [
      "class GaussianNB {\n",
      "\n",
      "    private double[] priors;\n",
      "    private double[][] sigmas;\n",
      "    private double[][] thetas;\n",
      "\n",
      "    public GaussianNB(double[] priors, double[][] sigmas, double[][] thetas) {\n",
      "        this.priors = priors;\n",
      "        this.sigmas = sigmas;\n",
      "        this.thetas = thetas;\n",
      "    }\n",
      "\n",
      "    public int predict(double[] features) {\n",
      "        double[] likelihoods = new double[this.sigmas.length];\n",
      "    \n",
      "        for (int i = 0, il = this.sigmas.length; i < il; i++) {\n",
      "            double sum = 0.;\n",
      "            for (int j = 0, jl = this.sigmas[0].length; j < jl; j++) {\n",
      "                sum += Math.log(2. * Math.PI * this.sigmas[i][j]);\n",
      "            }\n",
      "            double nij = -0.5 * sum;\n",
      "            sum = 0.;\n",
      "            for (int j = 0, jl = this.sigmas[0].length; j < jl; j++) {\n",
      "                sum += Math.pow(features[j] - this.thetas[i][j], 2.) / this.sigmas[i][j];\n",
      "            }\n",
      "            nij -= 0.5 * sum;\n",
      "            likelihoods[i] = Math.log(this.priors[i]) + nij;\n",
      "        }\n",
      "    \n",
      "        int classIdx = 0;\n",
      "        for (int i = 0, l = likelihoods.length; i < l; i++) {\n",
      "            classIdx = likelihoods[i] > likelihoods[classIdx] ? i : classIdx;\n",
      "        }\n",
      "        return classIdx;\n",
      "    }\n",
      "\n",
      "    public static void main(String[] args) {\n",
      "        if (args.length == 11) {\n",
      "\n",
      "            // Features:\n",
      "            double[] features = new double[args.length];\n",
      "            for (int i = 0, l = args.length; i < l; i++) {\n",
      "                features[i] = Double.parseDouble(args[i]);\n",
      "            }\n",
      "\n",
      "            // Parameters:\n",
      "            double[] priors = {0.44214876033057854, 0.5578512396694215};\n",
      "            double[][] sigmas = {{0.027109658055501296, 0.16874836255176973, 0.032341968706649044, 0.012861476125107246, 0.12053454475108857, 0.029512477452168763, 0.24980347653552346, 0.2017643464804972, 0.06917634752862378, 0.12717267908596486, 0.05293038718274193}, {0.04003962835485702, 0.24000000024938523, 0.0230131546165209, 0.01068366758323212, 0.1100685873550096, 0.02443047388289682, 0.1364060359146801, 0.20224965731385763, 0.17283950642222493, 0.24142661204636773, 0.080987654570373}};\n",
      "            double[][] thetas = {{0.5753504672897196, 0.7850467289719626, 0.3837947451948511, 0.28948491443690516, 0.14018691588785046, 0.527859028322751, 0.514018691588785, 0.719626168224299, 0.07476635514018691, 0.14953271028037382, 0.056074766355140186}, {0.4737654320987655, 0.6, 0.322222222222222, 0.2523422966345339, 0.1259259259259259, 0.6608990670059375, 0.16296296296296298, 0.2814814814814815, 0.2222222222222222, 0.4074074074074074, 0.08888888888888889}};\n",
      "\n",
      "            // Prediction:\n",
      "            GaussianNB clf = new GaussianNB(priors, sigmas, thetas);\n",
      "            int estimation = clf.predict(features);\n",
      "            System.out.println(estimation);\n",
      "\n",
      "        }\n",
      "    }\n",
      "}\n"
     ]
    }
   ],
   "source": [
    "porter = Porter(gnb, language='java')\n",
    "output = porter.export(embed_data=True)\n",
    "print(output)"
   ]
  }
 ],
 "metadata": {
  "kernelspec": {
   "display_name": "Python 3",
   "language": "python",
   "name": "python3"
  },
  "language_info": {
   "codemirror_mode": {
    "name": "ipython",
    "version": 3
   },
   "file_extension": ".py",
   "mimetype": "text/x-python",
   "name": "python",
   "nbconvert_exporter": "python",
   "pygments_lexer": "ipython3",
   "version": "3.7.3"
  }
 },
 "nbformat": 4,
 "nbformat_minor": 2
}
